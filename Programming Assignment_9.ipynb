{
 "cells": [
  {
   "cell_type": "markdown",
   "id": "47b9bb99",
   "metadata": {},
   "source": [
    "## Programming Assignment_9\n",
    "----------------"
   ]
  },
  {
   "cell_type": "markdown",
   "id": "c725f7a9",
   "metadata": {},
   "source": [
    "### 1. Write a Python program to check if the given number is a Disarium Number?"
   ]
  },
  {
   "cell_type": "code",
   "execution_count": 7,
   "id": "40bb6256-2cfd-4dc5-83cd-75f48a920e9c",
   "metadata": {},
   "outputs": [
    {
     "name": "stdin",
     "output_type": "stream",
     "text": [
      "Enter the Number to Check Disarium Number =  89\n"
     ]
    },
    {
     "name": "stdout",
     "output_type": "stream",
     "text": [
      "The Sum of the Digits = 89\n",
      "89 is a Disarium Number.\n"
     ]
    }
   ],
   "source": [
    "Number = int(input(\"Enter the Number to Check Disarium Number = \"))\n",
    "length = len(str(Number))\n",
    "\n",
    "temp = Number\n",
    "Sum = 0\n",
    "rem = 0\n",
    "\n",
    "while temp > 0:\n",
    "    rem = temp % 10\n",
    "    Sum = Sum + int(rem**length)\n",
    "    temp = temp // 10\n",
    "    length = length - 1\n",
    "\n",
    "print(\"The Sum of the Digits =\", Sum)\n",
    "\n",
    "if Sum == Number:\n",
    "    print(Number ,\"is a Disarium Number.\")\n",
    "else:\n",
    "    print(Number ,\"is Not a Disarium Number.\")"
   ]
  },
  {
   "cell_type": "markdown",
   "id": "f0064401",
   "metadata": {},
   "source": [
    "### 2. Write a Python program to print all disarium numbers between 1 to 100?"
   ]
  },
  {
   "cell_type": "code",
   "execution_count": 8,
   "id": "ae2e3d48-fcd3-4fa0-95a0-8435119aeb99",
   "metadata": {},
   "outputs": [
    {
     "name": "stdout",
     "output_type": "stream",
     "text": [
      "Disarium numbers between 1 and 100 are\n",
      "1\n",
      "2\n",
      "3\n",
      "4\n",
      "5\n",
      "6\n",
      "7\n",
      "8\n",
      "9\n",
      "89\n"
     ]
    }
   ],
   "source": [
    "def calculateLength(n):    \n",
    "    length = 0;    \n",
    "    while(n != 0):    \n",
    "        length = length + 1;    \n",
    "        n = n//10;    \n",
    "    return length;    \n",
    "     \n",
    "def sumOfDigits(num):    \n",
    "    rem = sum = 0;    \n",
    "    len = calculateLength(num);    \n",
    "        \n",
    "    while(num > 0):    \n",
    "        rem = num%10;    \n",
    "        sum = sum + (rem**len);    \n",
    "        num = num//10;    \n",
    "        len = len - 1;    \n",
    "    return sum;    \n",
    "      \n",
    "result = 0;    \n",
    "     \n",
    "print(\"Disarium numbers between 1 and 100 are\");    \n",
    "for i in range(1, 101):    \n",
    "    result = sumOfDigits(i);    \n",
    "        \n",
    "    if(result == i):    \n",
    "        print(i)"
   ]
  },
  {
   "cell_type": "markdown",
   "id": "31df1e4a",
   "metadata": {},
   "source": [
    "### 3. Write a Python program to check if the given number is Happy Number?"
   ]
  },
  {
   "cell_type": "code",
   "execution_count": 10,
   "id": "dfee0d43-f60f-4405-ad5c-75dac0d7da9e",
   "metadata": {},
   "outputs": [
    {
     "name": "stdin",
     "output_type": "stream",
     "text": [
      "Enter a number 100\n"
     ]
    },
    {
     "name": "stdout",
     "output_type": "stream",
     "text": [
      "happy number\n"
     ]
    }
   ],
   "source": [
    "def isHappy(n):    \n",
    "    r = s = 0;    \n",
    "    while(n > 0):    \n",
    "        r = n%10    \n",
    "        s += r**2  \n",
    "        n //= 10    \n",
    "    return s  \n",
    "        \n",
    "n = int(input(\"Enter a number\"))    \n",
    "res = n;    \n",
    "     \n",
    "while(res != 1 and res != 4):    \n",
    "    res = isHappy(res)    \n",
    "     \n",
    "if(res == 1):    \n",
    "    print(\"happy number\");    \n",
    "elif(res == 4):    \n",
    "    print(\"not a happy number\");"
   ]
  },
  {
   "cell_type": "markdown",
   "id": "51b265e3",
   "metadata": {},
   "source": [
    "### 4. Write a Python program to print all happy numbers between 1 and 100?"
   ]
  },
  {
   "cell_type": "code",
   "execution_count": 14,
   "id": "bb129cb8-6656-4aff-bb5f-934718f0efc9",
   "metadata": {},
   "outputs": [
    {
     "name": "stdout",
     "output_type": "stream",
     "text": [
      "The list of happy numbers between 1 and 100 are : \n",
      "1\n",
      "7\n",
      "10\n",
      "13\n",
      "19\n",
      "23\n",
      "28\n",
      "31\n",
      "32\n",
      "44\n",
      "49\n",
      "68\n",
      "70\n",
      "79\n",
      "82\n",
      "86\n",
      "91\n",
      "94\n",
      "97\n",
      "100\n"
     ]
    }
   ],
   "source": [
    "def check_happy_num(n):\n",
    "   r = s = 0\n",
    "   while(n > 0):\n",
    "      r = n%10\n",
    "      s = s + (r**2)\n",
    "      n = n//10\n",
    "   return s\n",
    "print(\"The list of happy numbers between 1 and 100 are : \")\n",
    "for i in range(1, 101):\n",
    "   res = i\n",
    "   while(res != 1 and res != 4):\n",
    "      res = check_happy_num(res)\n",
    "   if(res == 1):\n",
    "      print(i)"
   ]
  },
  {
   "cell_type": "markdown",
   "id": "6a190ee0",
   "metadata": {},
   "source": [
    "### 5. Write a Python program to determine whether the given number is a Harshad Number?"
   ]
  },
  {
   "cell_type": "code",
   "execution_count": 20,
   "id": "efcf1abe-2e11-4c84-bd15-ad03e8f42ac4",
   "metadata": {},
   "outputs": [
    {
     "name": "stdin",
     "output_type": "stream",
     "text": [
      "Enter a number 21\n"
     ]
    },
    {
     "name": "stdout",
     "output_type": "stream",
     "text": [
      "Yes\n"
     ]
    }
   ],
   "source": [
    "n = int(input(\"Enter a number\"))\n",
    "def checkHarshad( n ) :\n",
    "    sum = 0\n",
    "    temp = n\n",
    "    while temp > 0 :\n",
    "        sum = sum + temp % 10\n",
    "        temp = temp // 10\n",
    "        \n",
    "    return n % sum == 0\n",
    " \n",
    "if(checkHarshad(n)) : print(\"Yes\")\n",
    "else : print (\"No\")"
   ]
  },
  {
   "cell_type": "markdown",
   "id": "7a7ea92e",
   "metadata": {},
   "source": [
    "### 6. Write a Python program to print all pronic numbers between 1 and 100?"
   ]
  },
  {
   "cell_type": "code",
   "execution_count": 33,
   "id": "ebfc51de-1406-4235-95ec-a16e958438e6",
   "metadata": {},
   "outputs": [
    {
     "name": "stdin",
     "output_type": "stream",
     "text": [
      "Enter the Minimum Pronic Number =  1\n",
      "Enter the Maximum Pronic Number =  100\n"
     ]
    },
    {
     "name": "stdout",
     "output_type": "stream",
     "text": [
      "\n",
      "The List of Pronic Numbers from 1 and 100\n"
     ]
    }
   ],
   "source": [
    "def checkPronic(Number):\n",
    "    i = 0\n",
    "    flag = 0\n",
    "    while i <= Number:\n",
    "        if Number == i * (i + 1):\n",
    "            flag = 1\n",
    "            break\n",
    "        i = i + 1\n",
    "    return flag\n",
    "\n",
    "minPronic_Number = int(input(\"Enter the Minimum Pronic Number = \"))\n",
    "maxPronic_Number = int(input(\"Enter the Maximum Pronic Number = \"))\n",
    "\n",
    "print(\"\\nThe List of Pronic Numbers from {0} and {1}\".format(minPronic_Number, maxPronic_Number)) \n",
    "for i in range(maxPronic_Number, maxPronic_Number):\n",
    "    if(checkPronic(i) == 1):\n",
    "        print(i, end = '   ')"
   ]
  }
 ],
 "metadata": {
  "kernelspec": {
   "display_name": "Python 3 (ipykernel)",
   "language": "python",
   "name": "python3"
  },
  "language_info": {
   "codemirror_mode": {
    "name": "ipython",
    "version": 3
   },
   "file_extension": ".py",
   "mimetype": "text/x-python",
   "name": "python",
   "nbconvert_exporter": "python",
   "pygments_lexer": "ipython3",
   "version": "3.10.6"
  }
 },
 "nbformat": 4,
 "nbformat_minor": 5
}
