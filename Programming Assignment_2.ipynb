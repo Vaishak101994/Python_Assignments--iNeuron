{
 "cells": [
  {
   "cell_type": "markdown",
   "id": "08c66ea5",
   "metadata": {
    "id": "08c66ea5"
   },
   "source": [
    "## Programming Assignment_2\n",
    "-------------"
   ]
  },
  {
   "cell_type": "markdown",
   "id": "4e50cf42",
   "metadata": {
    "id": "4e50cf42"
   },
   "source": [
    "1. Write a Python program to convert kilometers to miles?\n"
   ]
  },
  {
   "cell_type": "code",
   "execution_count": 1,
   "id": "3ef0118a-3732-4622-9a98-13f2193c141d",
   "metadata": {},
   "outputs": [
    {
     "name": "stdin",
     "output_type": "stream",
     "text": [
      "Enter Kilometer  5\n"
     ]
    },
    {
     "name": "stdout",
     "output_type": "stream",
     "text": [
      "Kilometer to Miles =  3.106855\n"
     ]
    }
   ],
   "source": [
    "Kilometer = int(input(\"Enter Kilometer \"))\n",
    "\n",
    "Miles = 0.621371*Kilometer\n",
    "\n",
    "print(\"Kilometer to Miles = \",Miles)\n"
   ]
  },
  {
   "cell_type": "markdown",
   "id": "0df4e6bf",
   "metadata": {
    "id": "0df4e6bf"
   },
   "source": [
    "### 2.Write a Python program to convert Celsius to Fahrenheit?"
   ]
  },
  {
   "cell_type": "code",
   "execution_count": 3,
   "id": "4db93b85-7b52-491d-b8f1-4dcaf11e399f",
   "metadata": {
    "id": "Q-iUx4CQoppc"
   },
   "outputs": [
    {
     "name": "stdin",
     "output_type": "stream",
     "text": [
      "Enter Celsius  25\n"
     ]
    },
    {
     "name": "stdout",
     "output_type": "stream",
     "text": [
      "Celsius to Fahrenheit =  57\n"
     ]
    }
   ],
   "source": [
    "Celsius = int(input(\"Enter Celsius \"))\n",
    "\n",
    "Fahrenheit = Celsius + 32\n",
    "\n",
    "print(\"Celsius to Fahrenheit = \",Fahrenheit)"
   ]
  },
  {
   "cell_type": "markdown",
   "id": "46129b8e",
   "metadata": {
    "id": "46129b8e"
   },
   "source": [
    "3. Write a Python program to display calendar?\n"
   ]
  },
  {
   "cell_type": "code",
   "execution_count": 5,
   "id": "b983fe0f-a00b-44aa-bfe0-065b534e1e68",
   "metadata": {},
   "outputs": [
    {
     "name": "stdin",
     "output_type": "stream",
     "text": [
      "Enter year:  2022\n",
      "Enter month:  12\n"
     ]
    },
    {
     "name": "stdout",
     "output_type": "stream",
     "text": [
      "   December 2022\n",
      "Mo Tu We Th Fr Sa Su\n",
      "          1  2  3  4\n",
      " 5  6  7  8  9 10 11\n",
      "12 13 14 15 16 17 18\n",
      "19 20 21 22 23 24 25\n",
      "26 27 28 29 30 31\n",
      "\n"
     ]
    }
   ],
   "source": [
    "import calendar\n",
    "\n",
    "Year = int(input(\"Enter year: \"))\n",
    "Month = int(input(\"Enter month: \"))\n",
    "\n",
    "\n",
    "print(calendar.month(Year, Month))\n"
   ]
  },
  {
   "cell_type": "markdown",
   "id": "db2bf0f7",
   "metadata": {
    "id": "db2bf0f7"
   },
   "source": [
    "### 4. Write a Python program to solve quadratic equation?"
   ]
  },
  {
   "cell_type": "code",
   "execution_count": 7,
   "id": "d22ae5c4-f8b0-4dff-86c4-30b52f8b5170",
   "metadata": {},
   "outputs": [
    {
     "name": "stdin",
     "output_type": "stream",
     "text": [
      "Enter a:  5\n",
      "Enter b:  6\n",
      "Enter c:  7\n"
     ]
    },
    {
     "name": "stdout",
     "output_type": "stream",
     "text": [
      "(-0.6-1.0198039027185568j) (-0.6+1.0198039027185568j)\n"
     ]
    }
   ],
   "source": [
    "## quadratic equation ax**2 + bx + c = 0\n",
    "## quadratic formula ==> x = (-b +/- sqrt(b^2 - 4ac))/2a\n",
    "import cmath\n",
    "\n",
    "a = int(input(\"Enter a: \"))\n",
    "b = int(input(\"Enter b: \"))\n",
    "c = int(input(\"Enter c: \"))\n",
    "\n",
    "## b^2 - 4ac\n",
    "d = b**2 - (4*a*c)\n",
    "\n",
    "sol1 = (-b-cmath.sqrt(d))/(2*a)\n",
    "sol2 = (-b+cmath.sqrt(d))/(2*a)\n",
    "\n",
    "print(sol1 , sol2)"
   ]
  },
  {
   "cell_type": "markdown",
   "id": "f70f74c9",
   "metadata": {
    "id": "f70f74c9"
   },
   "source": [
    "5. Write a Python program to swap two variables without temp variable?"
   ]
  },
  {
   "cell_type": "code",
   "execution_count": 4,
   "id": "9364d1d6-953c-4fe1-b5f6-dad7a8adbd13",
   "metadata": {},
   "outputs": [
    {
     "name": "stdin",
     "output_type": "stream",
     "text": [
      "enter X Value 5\n",
      "enter Y Value 7\n"
     ]
    },
    {
     "name": "stdout",
     "output_type": "stream",
     "text": [
      "Value of x:  7\n",
      "Value of y:  5\n"
     ]
    }
   ],
   "source": [
    "x = int(input(\"enter X Value\"))\n",
    "y = int(input(\"enter Y Value\"))\n",
    "\n",
    "x,y = y,x\n",
    "\n",
    "print(\"Value of x: \", x)\n",
    "print(\"Value of y: \", y)\n"
   ]
  }
 ],
 "metadata": {
  "colab": {
   "provenance": []
  },
  "kernelspec": {
   "display_name": "Python 3 (ipykernel)",
   "language": "python",
   "name": "python3"
  },
  "language_info": {
   "codemirror_mode": {
    "name": "ipython",
    "version": 3
   },
   "file_extension": ".py",
   "mimetype": "text/x-python",
   "name": "python",
   "nbconvert_exporter": "python",
   "pygments_lexer": "ipython3",
   "version": "3.10.6"
  }
 },
 "nbformat": 4,
 "nbformat_minor": 5
}
