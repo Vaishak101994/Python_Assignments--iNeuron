{
 "cells": [
  {
   "cell_type": "markdown",
   "id": "4ac9602a",
   "metadata": {},
   "source": [
    "## Python Basic Programming Assignment - 5\n",
    "--------------\n"
   ]
  },
  {
   "cell_type": "markdown",
   "id": "fdaeee06",
   "metadata": {},
   "source": [
    "### 1. Write a Python Program to Find LCM?"
   ]
  },
  {
   "cell_type": "code",
   "execution_count": 2,
   "id": "c8b3bc1d-3a14-4d11-ab75-82cf5f989215",
   "metadata": {},
   "outputs": [
    {
     "name": "stdin",
     "output_type": "stream",
     "text": [
      "Enter number num1  12\n",
      "Enter number num2  9\n"
     ]
    },
    {
     "name": "stdout",
     "output_type": "stream",
     "text": [
      "The L.C.M. is 36\n"
     ]
    }
   ],
   "source": [
    "def lcm(x, y):\n",
    "\n",
    "   if x > y:\n",
    "       num = x\n",
    "   else:\n",
    "       num = y\n",
    "\n",
    "   while(True):\n",
    "       if((num % x == 0) and (num % y == 0)):\n",
    "           lcm = num\n",
    "           break\n",
    "       num = num+1\n",
    "\n",
    "   return lcm\n",
    "\n",
    "num1 = int(input(\"Enter number num1 \"))\n",
    "num2 = int(input(\"Enter number num2 \"))\n",
    "\n",
    "print(\"The L.C.M. is\", lcm(num1, num2))"
   ]
  },
  {
   "cell_type": "markdown",
   "id": "2f459cdf",
   "metadata": {},
   "source": [
    "### 2. Write a Python Program to Find HCF?"
   ]
  },
  {
   "cell_type": "code",
   "execution_count": 3,
   "id": "db30b7c5-d849-4550-9d11-1e610d4bd399",
   "metadata": {},
   "outputs": [
    {
     "name": "stdin",
     "output_type": "stream",
     "text": [
      "Enter number num1  18\n",
      "Enter number num2  27\n"
     ]
    },
    {
     "name": "stdout",
     "output_type": "stream",
     "text": [
      "The H.C.F. is 9\n"
     ]
    }
   ],
   "source": [
    "def hcf(x, y):\n",
    "\n",
    "# choose the smaller number\n",
    "    if x > y:\n",
    "        num = y\n",
    "    else:\n",
    "        num = x\n",
    "    for i in range(1, num+1):\n",
    "        if((x % i == 0) and (y % i == 0)):\n",
    "            hcf = i \n",
    "    return hcf\n",
    "\n",
    "num1 = int(input(\"Enter number num1 \"))\n",
    "num2 = int(input(\"Enter number num2 \"))\n",
    "\n",
    "print(\"The H.C.F. is\", hcf(num1, num2))"
   ]
  },
  {
   "cell_type": "markdown",
   "id": "d2c29370",
   "metadata": {},
   "source": [
    "### 3. Write a Python Program to Convert Decimal to Binary, Octal and Hexadecimal?"
   ]
  },
  {
   "cell_type": "code",
   "execution_count": 6,
   "id": "b2c20a7c-43f4-4b71-8dee-4bf3194c7ea4",
   "metadata": {},
   "outputs": [
    {
     "name": "stdin",
     "output_type": "stream",
     "text": [
      "Enter decimal number  3\n"
     ]
    },
    {
     "name": "stdout",
     "output_type": "stream",
     "text": [
      "The decimal value of 3 is:\n",
      "0b11 in binary.\n",
      "0o3 in octal.\n",
      "0x3 in hexadecimal.\n"
     ]
    }
   ],
   "source": [
    "decimal = int(input(\"Enter decimal number \"))\n",
    "\n",
    "print(\"The decimal value of\", decimal, \"is:\")\n",
    "print(bin(decimal), \"in binary.\")\n",
    "print(oct(decimal), \"in octal.\")\n",
    "print(hex(decimal), \"in hexadecimal.\")"
   ]
  },
  {
   "cell_type": "markdown",
   "id": "2a16c5fd",
   "metadata": {},
   "source": [
    "### 4. Write a Python Program To Find ASCII value of a character?"
   ]
  },
  {
   "cell_type": "code",
   "execution_count": 17,
   "id": "e6963818-65d0-4fbf-986f-6b366a03363f",
   "metadata": {},
   "outputs": [
    {
     "name": "stdin",
     "output_type": "stream",
     "text": [
      "Enter to find ANSCII value  5\n"
     ]
    },
    {
     "name": "stdout",
     "output_type": "stream",
     "text": [
      "The ASCII value of  5  is 53\n"
     ]
    }
   ],
   "source": [
    "ANCII = str(input(\"Enter to find ANSCII value \"))\n",
    "\n",
    "print(\"The ASCII value of \", ANCII ,\" is\", ord(ANCII))"
   ]
  },
  {
   "cell_type": "markdown",
   "id": "226778a0",
   "metadata": {},
   "source": [
    "### 5. Write a Python Program to Make a Simple Calculator with 4 basic mathematical operations?"
   ]
  },
  {
   "cell_type": "code",
   "execution_count": 20,
   "id": "f12db183-922b-4c69-8fed-b8cd81a5ea32",
   "metadata": {},
   "outputs": [
    {
     "name": "stdin",
     "output_type": "stream",
     "text": [
      "Enter number num1  5\n",
      "Enter number num2  6\n"
     ]
    },
    {
     "name": "stdout",
     "output_type": "stream",
     "text": [
      "Addition of  5  and  6  =  11\n",
      "Subtraction of  5  and  6  =  -1\n",
      "Multiplication of  5  and  6  =  30\n",
      "Division of  5  and  6  =  0.8333333333333334\n"
     ]
    }
   ],
   "source": [
    "num1 = int(input(\"Enter number num1 \"))\n",
    "num2 = int(input(\"Enter number num2 \"))\n",
    "\n",
    "\n",
    "addition = num1 + num2\n",
    "subtract = num1 - num2\n",
    "multiplication = num1 * num2\n",
    "division = num1/num2\n",
    "\n",
    "print(\"Addition of \",  num1  , \" and \",  num2 ,\" = \", addition)\n",
    "print(\"Subtraction of \",  num1  , \" and \",  num2 ,\" = \", subtract)\n",
    "print(\"Multiplication of \",  num1  , \" and \",  num2 ,\" = \", multiplication)\n",
    "print(\"Division of \",  num1  , \" and \",  num2 ,\" = \", division)\n"
   ]
  }
 ],
 "metadata": {
  "kernelspec": {
   "display_name": "Python 3 (ipykernel)",
   "language": "python",
   "name": "python3"
  },
  "language_info": {
   "codemirror_mode": {
    "name": "ipython",
    "version": 3
   },
   "file_extension": ".py",
   "mimetype": "text/x-python",
   "name": "python",
   "nbconvert_exporter": "python",
   "pygments_lexer": "ipython3",
   "version": "3.10.6"
  }
 },
 "nbformat": 4,
 "nbformat_minor": 5
}
